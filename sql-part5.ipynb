{
    "metadata": {
        "kernelspec": {
            "name": "SQL",
            "display_name": "SQL",
            "language": "sql"
        },
        "language_info": {
            "name": "sql",
            "version": ""
        }
    },
    "nbformat_minor": 2,
    "nbformat": 4,
    "cells": [
        {
            "cell_type": "markdown",
            "source": [
                "# Exercises: Creating, Updating, and Destroying Objects\n",
                "\n",
                "For the exercises, you will be working with objects and data you create. Before opening this notebook, make sure that you have set up the new connection to the server and that you have located the database and your schema.\n",
                "\n",
                "## Object Creation\n",
                "\n",
                "Before coding, think of three things you want to make. These could be coding projects, new recipes, or planned projects for a woodworking hobby. Brainstorm the appropriate column names and data types as well.\n",
                "\n",
                "Create a table under your schema called `planned_makes`."
            ],
            "metadata": {
                "azdata_cell_guid": "9d51c166-0c19-4f27-a422-2a6cf596bfb2"
            },
            "attachments": {}
        },
        {
            "cell_type": "code",
            "source": [
                "CREATE TABLE issao.planned_makes (\r\n",
                "    project_id INT PRIMARY KEY IDENTITY,\r\n",
                "    project_name VARCHAR(50),\r\n",
                "    description VARCHAR (100),\r\n",
                "    quantity_goal INT,\r\n",
                "    time_estimated_hr INT\r\n",
                ")"
            ],
            "metadata": {
                "azdata_cell_guid": "d9238911-6f81-4f01-980d-b584307effaf",
                "language": "sql",
                "tags": []
            },
            "outputs": [
                {
                    "output_type": "display_data",
                    "data": {
                        "text/html": "Commands completed successfully."
                    },
                    "metadata": {}
                },
                {
                    "output_type": "display_data",
                    "data": {
                        "text/html": "Total execution time: 00:00:00.042"
                    },
                    "metadata": {}
                }
            ],
            "execution_count": 44
        },
        {
            "cell_type": "markdown",
            "source": [
                "Add three rows to your table that are your planned makes."
            ],
            "metadata": {
                "azdata_cell_guid": "83cdf34d-8c4f-4fa1-a14e-77384b19d734"
            }
        },
        {
            "cell_type": "code",
            "source": [
                "INSERT INTO issao.planned_makes \r\n",
                "VALUES ('Fossil Field Guide', 'list of books to study and review for fossil analysis', 20, 5), \r\n",
                "('Calisthenics Routine Plan', 'list of daily Calisthenics sets, time per day', 50, 1),\r\n",
                "('Hiking Trails', 'list of hiking trails, MAX Est. time', 20, 3)\r\n",
                "\r\n",
                "SELECT * \r\n",
                "FROM issao.planned_makes"
            ],
            "metadata": {
                "azdata_cell_guid": "e7cff9cb-87ba-4c7b-98f2-eaf445e8719c",
                "language": "sql"
            },
            "outputs": [
                {
                    "output_type": "display_data",
                    "data": {
                        "text/html": "(3 rows affected)"
                    },
                    "metadata": {}
                },
                {
                    "output_type": "display_data",
                    "data": {
                        "text/html": "(3 rows affected)"
                    },
                    "metadata": {}
                },
                {
                    "output_type": "display_data",
                    "data": {
                        "text/html": "Total execution time: 00:00:00.069"
                    },
                    "metadata": {}
                },
                {
                    "output_type": "execute_result",
                    "metadata": {},
                    "execution_count": 45,
                    "data": {
                        "application/vnd.dataresource+json": {
                            "schema": {
                                "fields": [
                                    {
                                        "name": "project_id"
                                    },
                                    {
                                        "name": "project_name"
                                    },
                                    {
                                        "name": "description"
                                    },
                                    {
                                        "name": "quantity_goal"
                                    },
                                    {
                                        "name": "time_estimated_hr"
                                    }
                                ]
                            },
                            "data": [
                                {
                                    "0": "1",
                                    "1": "Fossil Field Guide",
                                    "2": "list of books to study and review for fossil analysis",
                                    "3": "20",
                                    "4": "5"
                                },
                                {
                                    "0": "2",
                                    "1": "Calisthenics Routine Plan",
                                    "2": "list of daily Calisthenics sets, time per day",
                                    "3": "50",
                                    "4": "1"
                                },
                                {
                                    "0": "3",
                                    "1": "Hiking Trails",
                                    "2": "list of hiking trails, MAX Est. time",
                                    "3": "20",
                                    "4": "3"
                                }
                            ]
                        },
                        "text/html": [
                            "<table>",
                            "<tr><th>project_id</th><th>project_name</th><th>description</th><th>quantity_goal</th><th>time_estimated_hr</th></tr>",
                            "<tr><td>1</td><td>Fossil Field Guide</td><td>list of books to study and review for fossil analysis</td><td>20</td><td>5</td></tr>",
                            "<tr><td>2</td><td>Calisthenics Routine Plan</td><td>list of daily Calisthenics sets, time per day</td><td>50</td><td>1</td></tr>",
                            "<tr><td>3</td><td>Hiking Trails</td><td>list of hiking trails, MAX Est. time</td><td>20</td><td>3</td></tr>",
                            "</table>"
                        ]
                    }
                }
            ],
            "execution_count": 45
        },
        {
            "cell_type": "markdown",
            "source": [
                "## Update a Row\n",
                "\n",
                "Change different values in one of your three rows."
            ],
            "metadata": {
                "azdata_cell_guid": "4a39b8d4-ae97-4e09-8336-c5fc6a00d76c"
            },
            "attachments": {}
        },
        {
            "cell_type": "code",
            "source": [
                "UPDATE issao.planned_makes\r\n",
                "SET time_estimated_hr = 2\r\n",
                "WHERE project_id = 3\r\n",
                "\r\n",
                "SELECT * \r\n",
                "FROM issao.planned_makes"
            ],
            "metadata": {
                "azdata_cell_guid": "7409c695-9581-4ad8-b03a-574d2c4c87cb",
                "language": "sql"
            },
            "outputs": [
                {
                    "output_type": "display_data",
                    "data": {
                        "text/html": "(1 row affected)"
                    },
                    "metadata": {}
                },
                {
                    "output_type": "display_data",
                    "data": {
                        "text/html": "(3 rows affected)"
                    },
                    "metadata": {}
                },
                {
                    "output_type": "display_data",
                    "data": {
                        "text/html": "Total execution time: 00:00:00.046"
                    },
                    "metadata": {}
                },
                {
                    "output_type": "execute_result",
                    "metadata": {},
                    "execution_count": 46,
                    "data": {
                        "application/vnd.dataresource+json": {
                            "schema": {
                                "fields": [
                                    {
                                        "name": "project_id"
                                    },
                                    {
                                        "name": "project_name"
                                    },
                                    {
                                        "name": "description"
                                    },
                                    {
                                        "name": "quantity_goal"
                                    },
                                    {
                                        "name": "time_estimated_hr"
                                    }
                                ]
                            },
                            "data": [
                                {
                                    "0": "1",
                                    "1": "Fossil Field Guide",
                                    "2": "list of books to study and review for fossil analysis",
                                    "3": "20",
                                    "4": "5"
                                },
                                {
                                    "0": "2",
                                    "1": "Calisthenics Routine Plan",
                                    "2": "list of daily Calisthenics sets, time per day",
                                    "3": "50",
                                    "4": "1"
                                },
                                {
                                    "0": "3",
                                    "1": "Hiking Trails",
                                    "2": "list of hiking trails, MAX Est. time",
                                    "3": "20",
                                    "4": "2"
                                }
                            ]
                        },
                        "text/html": [
                            "<table>",
                            "<tr><th>project_id</th><th>project_name</th><th>description</th><th>quantity_goal</th><th>time_estimated_hr</th></tr>",
                            "<tr><td>1</td><td>Fossil Field Guide</td><td>list of books to study and review for fossil analysis</td><td>20</td><td>5</td></tr>",
                            "<tr><td>2</td><td>Calisthenics Routine Plan</td><td>list of daily Calisthenics sets, time per day</td><td>50</td><td>1</td></tr>",
                            "<tr><td>3</td><td>Hiking Trails</td><td>list of hiking trails, MAX Est. time</td><td>20</td><td>2</td></tr>",
                            "</table>"
                        ]
                    }
                }
            ],
            "execution_count": 46
        },
        {
            "cell_type": "markdown",
            "source": [
                "## Delete a Row\n",
                "\n",
                "Delete one of the rows from your table."
            ],
            "metadata": {
                "azdata_cell_guid": "95e91a6e-9038-42d9-9401-5738842aba17"
            }
        },
        {
            "cell_type": "code",
            "source": [
                "DELETE FROM issao.planned_makes\r\n",
                "WHERE project_name LIKE '%Calisthenics%'\r\n",
                "\r\n",
                "SELECT * \r\n",
                "FROM issao.planned_makes"
            ],
            "metadata": {
                "azdata_cell_guid": "749c748f-19b5-4c69-9004-b6b20216616a",
                "language": "sql"
            },
            "outputs": [
                {
                    "output_type": "display_data",
                    "data": {
                        "text/html": "(1 row affected)"
                    },
                    "metadata": {}
                },
                {
                    "output_type": "display_data",
                    "data": {
                        "text/html": "(2 rows affected)"
                    },
                    "metadata": {}
                },
                {
                    "output_type": "display_data",
                    "data": {
                        "text/html": "Total execution time: 00:00:00.057"
                    },
                    "metadata": {}
                },
                {
                    "output_type": "execute_result",
                    "metadata": {},
                    "execution_count": 47,
                    "data": {
                        "application/vnd.dataresource+json": {
                            "schema": {
                                "fields": [
                                    {
                                        "name": "project_id"
                                    },
                                    {
                                        "name": "project_name"
                                    },
                                    {
                                        "name": "description"
                                    },
                                    {
                                        "name": "quantity_goal"
                                    },
                                    {
                                        "name": "time_estimated_hr"
                                    }
                                ]
                            },
                            "data": [
                                {
                                    "0": "1",
                                    "1": "Fossil Field Guide",
                                    "2": "list of books to study and review for fossil analysis",
                                    "3": "20",
                                    "4": "5"
                                },
                                {
                                    "0": "3",
                                    "1": "Hiking Trails",
                                    "2": "list of hiking trails, MAX Est. time",
                                    "3": "20",
                                    "4": "2"
                                }
                            ]
                        },
                        "text/html": [
                            "<table>",
                            "<tr><th>project_id</th><th>project_name</th><th>description</th><th>quantity_goal</th><th>time_estimated_hr</th></tr>",
                            "<tr><td>1</td><td>Fossil Field Guide</td><td>list of books to study and review for fossil analysis</td><td>20</td><td>5</td></tr>",
                            "<tr><td>3</td><td>Hiking Trails</td><td>list of hiking trails, MAX Est. time</td><td>20</td><td>2</td></tr>",
                            "</table>"
                        ]
                    }
                }
            ],
            "execution_count": 47
        },
        {
            "cell_type": "markdown",
            "source": [
                "## Drop the Table\n",
                "\n",
                "While this has been fun, it is time to drop the table!"
            ],
            "metadata": {
                "azdata_cell_guid": "2239cb09-137b-4579-905b-1aa020793181"
            },
            "attachments": {}
        },
        {
            "cell_type": "code",
            "source": [
                "DROP TABLE issao.planned_makes"
            ],
            "metadata": {
                "azdata_cell_guid": "b3c7f6ea-ee26-46b3-9c2a-2f7a82c39699",
                "language": "sql"
            },
            "outputs": [
                {
                    "output_type": "display_data",
                    "data": {
                        "text/html": "Commands completed successfully."
                    },
                    "metadata": {}
                },
                {
                    "output_type": "display_data",
                    "data": {
                        "text/html": "Total execution time: 00:00:00.039"
                    },
                    "metadata": {}
                }
            ],
            "execution_count": 48
        }
    ]
}